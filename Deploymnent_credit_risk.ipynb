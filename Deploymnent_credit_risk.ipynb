{
 "cells": [
  {
   "cell_type": "code",
   "execution_count": 4,
   "id": "e6558ae9-9558-49be-bd2f-ed8dcc7d2622",
   "metadata": {},
   "outputs": [],
   "source": [
    "import pickle\n",
    "import numpy as np\n",
    "filename='Credit_Risk_prediction.sav'"
   ]
  },
  {
   "cell_type": "code",
   "execution_count": 2,
   "id": "b89ff912-66d7-4bf3-8cf5-2519696ac30a",
   "metadata": {},
   "outputs": [],
   "source": [
    "loaded_model=pickle.load(open('Credit_Risk_prediction.sav','rb'))"
   ]
  },
  {
   "cell_type": "code",
   "execution_count": 10,
   "id": "d0c9bc16-a4eb-40f4-be00-f33a065ce785",
   "metadata": {},
   "outputs": [
    {
     "name": "stdin",
     "output_type": "stream",
     "text": [
      "Income:  1000000\n",
      "Home type (rent/own/mortgage):  rent\n",
      "Loan grade (A-E):  c\n",
      "Loan amount:  100000000\n",
      "Interest rate:  25\n",
      "Loan percent income:  .25\n",
      "Loan intent (education/medical/business/personal/debt_consolidation):  medical\n"
     ]
    },
    {
     "name": "stdout",
     "output_type": "stream",
     "text": [
      "Prediction: Risk\n",
      "There is Risk on this loan application\n"
     ]
    }
   ],
   "source": [
    "def get_categorical_prediction(prediction):\n",
    "    return 'Risk' if prediction == 1 else 'No Risk'\n",
    "\n",
    "# Define mappings for categorical variables\n",
    "home_type_map = {'RENT': 0, 'OWN': 1, 'MORTGAGE': 2, 'OTHER': 3}\n",
    "loan_grade_map={'A':0,'B':1,'C':2,'D':3,'E':4,'F':5,'G':6}\n",
    "loan_intent_map={'EDUCATION':0,'MEDICAL':1,'VENTURE':2,'PERSONAL':3,'DEBTCONSOLIDATION':4,'HOMEIMPROVEMENT':5}\n",
    "\n",
    "# Take user inputs\n",
    "income = float(input(\"Income: \"))\n",
    "home_type = input(\"Home type (rent/own/mortgage): \").upper()\n",
    "loan_grade = input(\"Loan grade (A-E): \").upper()\n",
    "loan_amount = float(input(\"Loan amount: \"))\n",
    "interest_rate = float(input(\"Interest rate: \"))\n",
    "loan_percent_income = float(input(\"Loan percent income: \"))\n",
    "loan_intent = input(\"Loan intent (education/medical/business/personal/debt_consolidation): \").upper()\n",
    "\n",
    "# Map the alphabetic inputs to numerical values using the dictionaries\n",
    "home_type_num = home_type_map.get(home_type, 0)  # default to 0 if not found\n",
    "loan_grade_num = loan_grade_map.get(loan_grade, 0)\n",
    "loan_intent_num = loan_intent_map.get(loan_intent, 0)\n",
    "\n",
    "# Define the input data array for prediction\n",
    "input_data = np.array([[income, home_type_num, loan_grade_num, loan_amount, interest_rate, loan_percent_income, loan_intent_num]], dtype=float)\n",
    "\n",
    "# Make the prediction with the loaded model\n",
    "result = loaded_model.predict(input_data)\n",
    "\n",
    "# Interpret and print the result\n",
    "prediction_category = get_categorical_prediction(result[0])\n",
    "print(\"Prediction:\", prediction_category)\n",
    "print('There is',prediction_category,'on this loan application')"
   ]
  },
  {
   "cell_type": "code",
   "execution_count": null,
   "id": "afe380d4-3427-49de-9aaa-5eb6a5a339f7",
   "metadata": {},
   "outputs": [],
   "source": []
  }
 ],
 "metadata": {
  "kernelspec": {
   "display_name": "Python 3 (ipykernel)",
   "language": "python",
   "name": "python3"
  },
  "language_info": {
   "codemirror_mode": {
    "name": "ipython",
    "version": 3
   },
   "file_extension": ".py",
   "mimetype": "text/x-python",
   "name": "python",
   "nbconvert_exporter": "python",
   "pygments_lexer": "ipython3",
   "version": "3.12.4"
  }
 },
 "nbformat": 4,
 "nbformat_minor": 5
}
